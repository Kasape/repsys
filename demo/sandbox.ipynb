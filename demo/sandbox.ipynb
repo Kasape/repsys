{
 "cells": [
  {
   "cell_type": "code",
   "execution_count": 1,
   "metadata": {},
   "outputs": [],
   "source": [
    "%load_ext autoreload\n",
    "%autoreload 2"
   ]
  },
  {
   "cell_type": "code",
   "execution_count": 2,
   "metadata": {},
   "outputs": [],
   "source": [
    "import numpy as np\n",
    "import pandas as pd\n",
    "import sys\n",
    "import pymde\n",
    "import scipy.sparse as sp\n",
    "\n",
    "%matplotlib inline\n",
    "\n",
    "import matplotlib\n",
    "import matplotlib.pyplot as plt\n",
    "\n",
    "import plotly.express as px\n",
    "\n",
    "from sklearn.cluster import DBSCAN\n",
    "\n",
    "from sklearn.decomposition import TruncatedSVD\n",
    "from sklearn.neighbors import NearestNeighbors\n",
    "\n",
    "sys.path.insert(1, '..')\n",
    "\n",
    "from repsys.dataset import Dataset\n",
    "from repsys.model import Model\n",
    "from repsys.evaluators import DatasetEvaluator, ModelEvaluator\n",
    "import repsys.dtypes as dtypes"
   ]
  },
  {
   "cell_type": "code",
   "execution_count": 3,
   "metadata": {},
   "outputs": [],
   "source": [
    "class MovieLens(Dataset):\n",
    "    def name(self):\n",
    "        return \"movielens\"\n",
    "\n",
    "    def get_genres(self):\n",
    "        return self.tags.get('genres')\n",
    "\n",
    "    def item_cols(self):\n",
    "        return {\n",
    "            \"movieId\": dtypes.ItemID(),\n",
    "            \"title\": dtypes.Title(),\n",
    "            \"genres\": dtypes.Tag(sep=\"|\"),\n",
    "            \"year\": dtypes.Number(data_type=int),\n",
    "        }\n",
    "\n",
    "    def interaction_cols(self):\n",
    "        return {\n",
    "            \"movieId\": dtypes.ItemID(),\n",
    "            \"userId\": dtypes.UserID(),\n",
    "            \"rating\": dtypes.Interaction(),\n",
    "        }\n",
    "\n",
    "    def load_items(self):\n",
    "        df = pd.read_csv(\"./ml-sm/movies.csv\")\n",
    "        df[\"year\"] = df[\"title\"].str.extract(\"\\((\\d+)\\)\")\n",
    "        # df[\"year\"] = df[\"year\"].fillna(0)\n",
    "        # df[\"year\"] = df[\"year\"].astype(int)\n",
    "        return df\n",
    "\n",
    "    def load_interactions(self):\n",
    "        return pd.read_csv(\"./ml-sm/ratings.csv\")"
   ]
  },
  {
   "cell_type": "code",
   "execution_count": 4,
   "metadata": {},
   "outputs": [],
   "source": [
    "dataset = MovieLens()\n",
    "dataset.split()"
   ]
  },
  {
   "cell_type": "code",
   "execution_count": 27,
   "metadata": {},
   "outputs": [],
   "source": [
    "# dataset.save('./.repsys_checkpoints/latest.zip')\n",
    "# dataset.load('./.repsys_checkpoints/dataset-split-1645457256.zip')"
   ]
  },
  {
   "cell_type": "code",
   "execution_count": null,
   "metadata": {},
   "outputs": [],
   "source": [
    "# fig = px.scatter(x=data[:, 0], y=data[:, 1], width=700, height=500)\n",
    "# fig.update_traces(marker=dict(size=2))\n",
    "# fig.update_layout(yaxis=dict(scaleanchor=\"x\", scaleratio=1))\n",
    "# fig.show()"
   ]
  },
  {
   "cell_type": "code",
   "execution_count": 5,
   "metadata": {},
   "outputs": [],
   "source": [
    "class KNN(Model):\n",
    "  def __init__(self, k=5):\n",
    "    self.model = NearestNeighbors(n_neighbors=k, metric=\"cosine\")\n",
    "\n",
    "  def name(self):\n",
    "    return \"knn\"\n",
    "\n",
    "  def fit(self):\n",
    "    self.model.fit(self.dataset.get_train_data())\n",
    "\n",
    "  def predict(self, X, **kwargs):\n",
    "    # the slowest phase of the prediction\n",
    "    distances, indexes = self.model.kneighbors(X)\n",
    "\n",
    "    n_distances = distances[:, 1:]\n",
    "    n_indexes = indexes[:, 1:]\n",
    "\n",
    "    n_distances = 1 - n_distances\n",
    "\n",
    "    sums = n_distances.sum(axis=1)\n",
    "    n_distances = n_distances / sums[:, np.newaxis]\n",
    "        \n",
    "    def f(dist, idx):\n",
    "        A = self.dataset.get_train_data()[idx]\n",
    "        D = sp.diags(dist)\n",
    "        return D.dot(A).sum(axis=0)\n",
    "    \n",
    "    vf = np.vectorize(f, signature='(n),(n)->(m)')\n",
    "\n",
    "    pred = vf(n_distances, n_indexes)\n",
    "        \n",
    "    pred[(X > 0).toarray()] = 0\n",
    "\n",
    "    return pred"
   ]
  },
  {
   "cell_type": "code",
   "execution_count": 6,
   "metadata": {},
   "outputs": [],
   "source": [
    "model = KNN(k=20)\n",
    "model.update_dataset(dataset)\n",
    "model.fit()"
   ]
  },
  {
   "cell_type": "code",
   "execution_count": 8,
   "metadata": {},
   "outputs": [],
   "source": [
    "evaluator = ModelEvaluator()\n",
    "evaluator.update_dataset(dataset)"
   ]
  },
  {
   "cell_type": "code",
   "execution_count": 9,
   "metadata": {},
   "outputs": [
    {
     "name": "stderr",
     "output_type": "stream",
     "text": [
      "WARNING:absl:No GPU/TPU found, falling back to CPU. (Set TF_CPP_MIN_LOG_LEVEL=0 and rerun for more info.)\n"
     ]
    }
   ],
   "source": [
    "evaluator.evaluate(model, split='validation')"
   ]
  },
  {
   "cell_type": "code",
   "execution_count": 10,
   "metadata": {},
   "outputs": [],
   "source": [
    "evaluator.save('foo.zip')"
   ]
  },
  {
   "cell_type": "code",
   "execution_count": 15,
   "metadata": {},
   "outputs": [
    {
     "name": "stdout",
     "output_type": "stream",
     "text": [
      "Model knn:\n",
      "        recall@5  recall@20  recall@50\n",
      "count  46.000000  46.000000  46.000000\n",
      "mean    0.294203   0.283369   0.385433\n",
      "std     0.230196   0.234040   0.291111\n",
      "min     0.000000   0.000000   0.000000\n",
      "25%     0.200000   0.114583   0.175435\n",
      "50%     0.225000   0.211111   0.303846\n",
      "75%     0.400000   0.448611   0.528846\n",
      "max     1.000000   1.000000   1.000000\n"
     ]
    }
   ],
   "source": [
    "evaluator.print()"
   ]
  },
  {
   "cell_type": "code",
   "execution_count": null,
   "metadata": {},
   "outputs": [],
   "source": []
  }
 ],
 "metadata": {
  "interpreter": {
   "hash": "56116db39e34858da7bcc694b131a47518b653d2b6de6b52a1653a01e20bb8fd"
  },
  "kernelspec": {
   "display_name": "Python 3 (ipykernel)",
   "language": "python",
   "name": "python3"
  },
  "language_info": {
   "codemirror_mode": {
    "name": "ipython",
    "version": 3
   },
   "file_extension": ".py",
   "mimetype": "text/x-python",
   "name": "python",
   "nbconvert_exporter": "python",
   "pygments_lexer": "ipython3",
   "version": "3.7.11"
  }
 },
 "nbformat": 4,
 "nbformat_minor": 4
}
