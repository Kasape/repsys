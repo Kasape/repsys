{
 "cells": [
  {
   "cell_type": "code",
   "execution_count": 61,
   "metadata": {},
   "outputs": [
    {
     "name": "stdout",
     "output_type": "stream",
     "text": [
      "The autoreload extension is already loaded. To reload it, use:\n",
      "  %reload_ext autoreload\n"
     ]
    }
   ],
   "source": [
    "%load_ext autoreload\n",
    "%autoreload 2"
   ]
  },
  {
   "cell_type": "code",
   "execution_count": 63,
   "metadata": {},
   "outputs": [],
   "source": [
    "import numpy as np\n",
    "import sys\n",
    "\n",
    "from importlib import reload\n",
    "\n",
    "import hdbscan\n",
    "\n",
    "from sklearn.manifold import TSNE\n",
    "from sklearn.decomposition import TruncatedSVD\n",
    "\n",
    "from sklearn.neighbors import NearestNeighbors\n",
    "\n",
    "import matplotlib.pyplot as plt\n",
    "\n",
    "sys.path.insert(1, '..')\n",
    "\n",
    "import repsys"
   ]
  },
  {
   "cell_type": "code",
   "execution_count": 64,
   "metadata": {},
   "outputs": [],
   "source": [
    "class MovieLens(repsys.Dataset):\n",
    "    def name(self):\n",
    "        return \"movielens\""
   ]
  },
  {
   "cell_type": "code",
   "execution_count": 71,
   "metadata": {},
   "outputs": [],
   "source": [
    "dataset = MovieLens()\n",
    "dataset.load_dataset()"
   ]
  },
  {
   "cell_type": "code",
   "execution_count": 79,
   "metadata": {},
   "outputs": [],
   "source": [
    "class KNN(repsys.Model):\n",
    "  def __init__(self, k=5):\n",
    "    self.model = NearestNeighbors(n_neighbors=k, metric=\"cosine\")\n",
    "    self.svd = TruncatedSVD(n_components=20, random_state=42)\n",
    "\n",
    "  def name(self):\n",
    "    return \"KNN5\"\n",
    "\n",
    "  def fit(self):\n",
    "    self.train_embed = self.svd.fit_transform(self.dataset.train_data)\n",
    "    self.model.fit(self.train_embed)\n",
    "\n",
    "  def predict(self, X, **kwargs):\n",
    "    vad_embed = self.svd.transform(X)\n",
    "\n",
    "    print(\"Embeddings computed\")\n",
    "\n",
    "    distances, indexes = self.model.kneighbors(vad_embed)\n",
    "\n",
    "    print(\"Distances computed\")\n",
    "\n",
    "    n_distances = distances[:, 1:]\n",
    "    n_indexes = indexes[:, 1:]\n",
    "\n",
    "    n_distances = 1 - n_distances\n",
    "\n",
    "    sums = n_distances.sum(axis=1)\n",
    "    n_distances = n_distances / sums[:, np.newaxis]\n",
    "\n",
    "    print(\"Distances normalized\")\n",
    "\n",
    "    predictions = np.array(\n",
    "        [\n",
    "            self.dataset.train_data[idx]\n",
    "            .multiply(dist.reshape(-1, 1))\n",
    "            .sum(axis=0)\n",
    "            for idx, dist in zip(n_indexes, n_distances)\n",
    "        ]\n",
    "    ).squeeze(axis=1)\n",
    "\n",
    "    print(\"Predictions completed\")\n",
    "\n",
    "    predictions[X.toarray() > 0] = 0\n",
    "\n",
    "    print(\"History erased\")\n",
    "\n",
    "    return predictions"
   ]
  },
  {
   "cell_type": "code",
   "execution_count": 80,
   "metadata": {},
   "outputs": [],
   "source": [
    "model = KNN()\n",
    "model.update_data(dataset)\n",
    "model.fit()"
   ]
  },
  {
   "cell_type": "code",
   "execution_count": 81,
   "metadata": {},
   "outputs": [
    {
     "name": "stdout",
     "output_type": "stream",
     "text": [
      "Embeddings computed\n",
      "Distances computed\n",
      "Distances normalized\n",
      "Predictions completed\n",
      "History erased\n",
      "Recall@5=0.19891 (0.00228)\n",
      "Recall@20=0.25587 (0.00238)\n",
      "Recall@50=0.34093 (0.00262)\n",
      "NCDG@100=0.27133 (0.00193)\n"
     ]
    }
   ],
   "source": [
    "evaluator = repsys.Evaluator(model)\n",
    "evaluator.evaluate_model(dataset.test_data_tr, dataset.test_data_te)\n",
    "evaluator.print_results()"
   ]
  },
  {
   "cell_type": "code",
   "execution_count": 82,
   "metadata": {},
   "outputs": [
    {
     "data": {
      "image/png": "[encoded data removed]",
      "text/plain": [
       "<Figure size 1080x288 with 4 Axes>"
      ]
     },
     "metadata": {
      "needs_background": "light"
     },
     "output_type": "display_data"
    }
   ],
   "source": [
    "evaluator.plot_distributions()"
   ]
  },
  {
   "cell_type": "markdown",
   "metadata": {},
   "source": [
    "## Embeddings Space"
   ]
  },
  {
   "cell_type": "code",
   "execution_count": 83,
   "metadata": {},
   "outputs": [
    {
     "name": "stderr",
     "output_type": "stream",
     "text": [
      "/Users/jean/opt/miniconda3/envs/jupyter/lib/python3.7/site-packages/sklearn/manifold/_t_sne.py:783: FutureWarning: The default initialization in TSNE will change from 'random' to 'pca' in 1.2.\n",
      "  FutureWarning,\n",
      "/Users/jean/opt/miniconda3/envs/jupyter/lib/python3.7/site-packages/sklearn/manifold/_t_sne.py:793: FutureWarning: The default learning rate in TSNE will change from 200.0 to 'auto' in 1.2.\n",
      "  FutureWarning,\n"
     ]
    }
   ],
   "source": [
    "tsne = TSNE(random_state=42)\n",
    "X_embedded = tsne.fit_transform(model.train_embed)"
   ]
  },
  {
   "cell_type": "code",
   "execution_count": 18,
   "metadata": {},
   "outputs": [],
   "source": [
    "clusterer = hdbscan.HDBSCAN(min_cluster_size=12)\n",
    "clusterer.fit(X_embedded)"
   ]
  },
  {
   "cell_type": "code",
   "execution_count": null,
   "metadata": {},
   "outputs": [],
   "source": [
    "plt.figure(figsize=(10, 10))\n",
    "plt.scatter(x=X_embedded[:, 0], y=X_embedded[:, 1], c=clusterer.labels_)\n",
    "plt.show()"
   ]
  },
  {
   "cell_type": "code",
   "execution_count": null,
   "metadata": {},
   "outputs": [],
   "source": []
  }
 ],
 "metadata": {
  "interpreter": {
   "hash": "56116db39e34858da7bcc694b131a47518b653d2b6de6b52a1653a01e20bb8fd"
  },
  "kernelspec": {
   "display_name": "Python 3",
   "language": "python",
   "name": "python3"
  },
  "language_info": {
   "codemirror_mode": {
    "name": "ipython",
    "version": 3
   },
   "file_extension": ".py",
   "mimetype": "text/x-python",
   "name": "python",
   "nbconvert_exporter": "python",
   "pygments_lexer": "ipython3",
   "version": "3.7.11"
  }
 },
 "nbformat": 4,
 "nbformat_minor": 2
}
