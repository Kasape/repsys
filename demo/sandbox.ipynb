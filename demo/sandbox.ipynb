{
 "cells": [
  {
   "cell_type": "code",
   "execution_count": 1,
   "metadata": {},
   "outputs": [],
   "source": [
    "%load_ext autoreload\n",
    "%autoreload 2"
   ]
  },
  {
   "cell_type": "code",
   "execution_count": 21,
   "metadata": {},
   "outputs": [],
   "source": [
    "import numpy as np\n",
    "import pandas as pd\n",
    "import sys\n",
    "import scipy.sparse as sp\n",
    "\n",
    "from sklearn.decomposition import TruncatedSVD\n",
    "from sklearn.neighbors import NearestNeighbors\n",
    "\n",
    "# sys.path.insert(1, '..')\n",
    "\n",
    "# from repsys.dataset import Dataset\n",
    "# from repsys.model import Model\n",
    "# from repsys.evaluators import ModelEvaluator\n",
    "# import repsys.dtypes as dtypes"
   ]
  },
  {
   "cell_type": "code",
   "execution_count": 33,
   "metadata": {},
   "outputs": [
    {
     "data": {
      "text/plain": [
       "array([1, 2, 3, 4, 5, 6])"
      ]
     },
     "execution_count": 33,
     "metadata": {},
     "output_type": "execute_result"
    }
   ],
   "source": [
    "row = np.array([0, 0, 1, 2, 2, 2])\n",
    "col = np.array([0, 2, 2, 0, 1, 2])\n",
    "data = np.array([1, 2, 3, 4, 5, 6])\n",
    "sp.csr_matrix((data, (row, col)), shape=(3, 3)).tocoo().data"
   ]
  },
  {
   "cell_type": "code",
   "execution_count": 24,
   "metadata": {},
   "outputs": [],
   "source": [
    "class MovieLens(Dataset):\n",
    "  def name(self):\n",
    "    return \"movielens\"\n",
    "\n",
    "  def get_genres(self):\n",
    "    return self.tags['genres']\n",
    "\n",
    "  def item_dtypes(self):\n",
    "    return {\n",
    "        \"movieId\": dtypes.ItemID(),\n",
    "        \"title\": dtypes.Title(),\n",
    "        \"genres\": dtypes.Tags(sep=\"|\"),\n",
    "        \"year\": dtypes.Number()\n",
    "    }\n",
    "\n",
    "  def interact_dtypes(self):\n",
    "    return {\n",
    "        \"movieId\": dtypes.ItemID(),\n",
    "        \"userId\": dtypes.UserID(),\n",
    "        \"rating\": dtypes.Rating(min=0.5, step=0.5),\n",
    "    }\n",
    "\n",
    "  def load_items(self):\n",
    "    df = pd.read_csv(\"./ml-20m/movies.csv\")\n",
    "    df['year'] = df['title'].str.extract('\\((\\d+)\\)')\n",
    "    df['year'] = df['year'].fillna(0)\n",
    "    df['year'] = df['year'].astype(int)\n",
    "    return df\n",
    "\n",
    "  def load_interacts(self):\n",
    "    return pd.read_csv(\"./ml-20m/ratings.csv\")"
   ]
  },
  {
   "cell_type": "code",
   "execution_count": 25,
   "metadata": {},
   "outputs": [],
   "source": [
    "dataset = MovieLens()\n",
    "dataset.fit()"
   ]
  },
  {
   "cell_type": "code",
   "execution_count": 26,
   "metadata": {},
   "outputs": [
    {
     "data": {
      "text/html": [
       "<div>\n",
       "<style scoped>\n",
       "    .dataframe tbody tr th:only-of-type {\n",
       "        vertical-align: middle;\n",
       "    }\n",
       "\n",
       "    .dataframe tbody tr th {\n",
       "        vertical-align: top;\n",
       "    }\n",
       "\n",
       "    .dataframe thead th {\n",
       "        text-align: right;\n",
       "    }\n",
       "</style>\n",
       "<table border=\"1\" class=\"dataframe\">\n",
       "  <thead>\n",
       "    <tr style=\"text-align: right;\">\n",
       "      <th></th>\n",
       "      <th>title</th>\n",
       "      <th>genres</th>\n",
       "      <th>year</th>\n",
       "    </tr>\n",
       "    <tr>\n",
       "      <th>movieId</th>\n",
       "      <th></th>\n",
       "      <th></th>\n",
       "      <th></th>\n",
       "    </tr>\n",
       "  </thead>\n",
       "  <tbody>\n",
       "    <tr>\n",
       "      <th>1</th>\n",
       "      <td>Toy Story (1995)</td>\n",
       "      <td>[Adventure, Animation, Children, Comedy, Fantasy]</td>\n",
       "      <td>1995</td>\n",
       "    </tr>\n",
       "    <tr>\n",
       "      <th>2</th>\n",
       "      <td>Jumanji (1995)</td>\n",
       "      <td>[Adventure, Children, Fantasy]</td>\n",
       "      <td>1995</td>\n",
       "    </tr>\n",
       "    <tr>\n",
       "      <th>3</th>\n",
       "      <td>Grumpier Old Men (1995)</td>\n",
       "      <td>[Comedy, Romance]</td>\n",
       "      <td>1995</td>\n",
       "    </tr>\n",
       "    <tr>\n",
       "      <th>4</th>\n",
       "      <td>Waiting to Exhale (1995)</td>\n",
       "      <td>[Comedy, Drama, Romance]</td>\n",
       "      <td>1995</td>\n",
       "    </tr>\n",
       "    <tr>\n",
       "      <th>5</th>\n",
       "      <td>Father of the Bride Part II (1995)</td>\n",
       "      <td>[Comedy]</td>\n",
       "      <td>1995</td>\n",
       "    </tr>\n",
       "    <tr>\n",
       "      <th>...</th>\n",
       "      <td>...</td>\n",
       "      <td>...</td>\n",
       "      <td>...</td>\n",
       "    </tr>\n",
       "    <tr>\n",
       "      <th>131158</th>\n",
       "      <td>Manta, Manta (1991)</td>\n",
       "      <td>[Comedy]</td>\n",
       "      <td>1991</td>\n",
       "    </tr>\n",
       "    <tr>\n",
       "      <th>131164</th>\n",
       "      <td>Vietnam in HD (2011)</td>\n",
       "      <td>[War]</td>\n",
       "      <td>2011</td>\n",
       "    </tr>\n",
       "    <tr>\n",
       "      <th>131166</th>\n",
       "      <td>WWII IN HD (2009)</td>\n",
       "      <td>[(no genres listed)]</td>\n",
       "      <td>2009</td>\n",
       "    </tr>\n",
       "    <tr>\n",
       "      <th>131176</th>\n",
       "      <td>A Second Chance (2014)</td>\n",
       "      <td>[Drama]</td>\n",
       "      <td>2014</td>\n",
       "    </tr>\n",
       "    <tr>\n",
       "      <th>131262</th>\n",
       "      <td>Innocence (2014)</td>\n",
       "      <td>[Adventure, Fantasy, Horror]</td>\n",
       "      <td>2014</td>\n",
       "    </tr>\n",
       "  </tbody>\n",
       "</table>\n",
       "<p>20071 rows × 3 columns</p>\n",
       "</div>"
      ],
      "text/plain": [
       "                                      title  \\\n",
       "movieId                                       \n",
       "1                          Toy Story (1995)   \n",
       "2                            Jumanji (1995)   \n",
       "3                   Grumpier Old Men (1995)   \n",
       "4                  Waiting to Exhale (1995)   \n",
       "5        Father of the Bride Part II (1995)   \n",
       "...                                     ...   \n",
       "131158                  Manta, Manta (1991)   \n",
       "131164                 Vietnam in HD (2011)   \n",
       "131166                    WWII IN HD (2009)   \n",
       "131176               A Second Chance (2014)   \n",
       "131262                     Innocence (2014)   \n",
       "\n",
       "                                                    genres  year  \n",
       "movieId                                                           \n",
       "1        [Adventure, Animation, Children, Comedy, Fantasy]  1995  \n",
       "2                           [Adventure, Children, Fantasy]  1995  \n",
       "3                                        [Comedy, Romance]  1995  \n",
       "4                                 [Comedy, Drama, Romance]  1995  \n",
       "5                                                 [Comedy]  1995  \n",
       "...                                                    ...   ...  \n",
       "131158                                            [Comedy]  1991  \n",
       "131164                                               [War]  2011  \n",
       "131166                                [(no genres listed)]  2009  \n",
       "131176                                             [Drama]  2014  \n",
       "131262                        [Adventure, Fantasy, Horror]  2014  \n",
       "\n",
       "[20071 rows x 3 columns]"
      ]
     },
     "execution_count": 26,
     "metadata": {},
     "output_type": "execute_result"
    }
   ],
   "source": [
    "dataset.items"
   ]
  },
  {
   "cell_type": "code",
   "execution_count": 37,
   "metadata": {},
   "outputs": [],
   "source": [
    "class KNN(Model):\n",
    "  def __init__(self, k=5):\n",
    "    self.model = NearestNeighbors(n_neighbors=k, metric=\"cosine\")\n",
    "\n",
    "  def name(self):\n",
    "    return \"knn\"\n",
    "\n",
    "  def fit(self):\n",
    "    self.model.fit(self.dataset.train_data)\n",
    "\n",
    "  def predict(self, X, **kwargs):\n",
    "    # the slowest phase of the prediction\n",
    "    distances, indexes = self.model.kneighbors(X)\n",
    "\n",
    "    n_distances = distances[:, 1:]\n",
    "    n_indexes = indexes[:, 1:]\n",
    "\n",
    "    n_distances = 1 - n_distances\n",
    "\n",
    "    sums = n_distances.sum(axis=1)\n",
    "    n_distances = n_distances / sums[:, np.newaxis]\n",
    "        \n",
    "    def f(dist, idx):\n",
    "        A = self.dataset.train_data[idx]\n",
    "        D = sp.diags(dist)\n",
    "        return D.dot(A).sum(axis=0)\n",
    "    \n",
    "    vf = np.vectorize(f, signature='(n),(n)->(m)')\n",
    "\n",
    "    pred = vf(n_distances, n_indexes)\n",
    "        \n",
    "    pred[(X > 0).toarray()] = 0\n",
    "\n",
    "    return pred"
   ]
  },
  {
   "cell_type": "code",
   "execution_count": 38,
   "metadata": {},
   "outputs": [],
   "source": [
    "model = KNN(k=20)\n",
    "model.update_dataset(dataset)\n",
    "model.fit()"
   ]
  },
  {
   "cell_type": "code",
   "execution_count": 39,
   "metadata": {},
   "outputs": [
    {
     "name": "stdout",
     "output_type": "stream",
     "text": [
      "phase 1 done\n",
      "phase 2 done\n"
     ]
    }
   ],
   "source": [
    "X_pred = model.predict(dataset.vad_data_tr)"
   ]
  },
  {
   "cell_type": "code",
   "execution_count": 97,
   "metadata": {},
   "outputs": [
    {
     "data": {
      "text/plain": [
       "array([[0.        , 0.        , 0.        , ..., 0.        , 0.        ,\n",
       "        0.        ],\n",
       "       [0.103728  , 0.21258559, 0.        , ..., 0.        , 0.        ,\n",
       "        0.        ],\n",
       "       [0.        , 0.10169589, 0.2073023 , ..., 0.        , 0.        ,\n",
       "        0.        ],\n",
       "       ...,\n",
       "       [0.        , 0.        , 0.        , ..., 0.        , 0.        ,\n",
       "        0.        ],\n",
       "       [0.        , 0.        , 0.        , ..., 0.        , 0.        ,\n",
       "        0.        ],\n",
       "       [0.05775506, 0.48042479, 0.0515738 , ..., 0.        , 0.        ,\n",
       "        0.        ]])"
      ]
     },
     "execution_count": 97,
     "metadata": {},
     "output_type": "execute_result"
    }
   ],
   "source": [
    "X_pred"
   ]
  },
  {
   "cell_type": "code",
   "execution_count": null,
   "metadata": {},
   "outputs": [],
   "source": []
  }
 ],
 "metadata": {
  "interpreter": {
   "hash": "56116db39e34858da7bcc694b131a47518b653d2b6de6b52a1653a01e20bb8fd"
  },
  "kernelspec": {
   "display_name": "Python 3 (ipykernel)",
   "language": "python",
   "name": "python3"
  },
  "language_info": {
   "codemirror_mode": {
    "name": "ipython",
    "version": 3
   },
   "file_extension": ".py",
   "mimetype": "text/x-python",
   "name": "python",
   "nbconvert_exporter": "python",
   "pygments_lexer": "ipython3",
   "version": "3.8.5"
  }
 },
 "nbformat": 4,
 "nbformat_minor": 4
}
