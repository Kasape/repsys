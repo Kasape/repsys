{
 "cells": [
  {
   "cell_type": "code",
   "execution_count": 2,
   "metadata": {},
   "outputs": [],
   "source": [
    "%load_ext autoreload\n",
    "%autoreload 2"
   ]
  },
  {
   "cell_type": "code",
   "execution_count": 3,
   "metadata": {},
   "outputs": [],
   "source": [
    "import numpy as np\n",
    "import pandas as pd\n",
    "import sys\n",
    "\n",
    "from sklearn.decomposition import TruncatedSVD\n",
    "from sklearn.neighbors import NearestNeighbors\n",
    "\n",
    "sys.path.insert(1, '..')\n",
    "\n",
    "from repsys.dataset import Dataset, dtypes\n",
    "from repsys.model import ScikitModel"
   ]
  },
  {
   "cell_type": "code",
   "execution_count": 9,
   "metadata": {},
   "outputs": [],
   "source": [
    "class MovieLens(Dataset):\n",
    "  def name(self):\n",
    "    return \"movielens\"\n",
    "\n",
    "  def get_genres(self):\n",
    "    return self.tags['genres']\n",
    "\n",
    "  def item_dtypes(self):\n",
    "    return {\n",
    "        \"movieId\": dtypes.ItemID(),\n",
    "        \"title\": dtypes.String(),\n",
    "        \"genres\": dtypes.Tags(sep=\"|\"),\n",
    "    }\n",
    "\n",
    "  def item_mappings(self):\n",
    "    return {\n",
    "      \"caption\": lambda df: df['genres'].str.replace('|', ', ', regex=False),\n",
    "      \"subtitle\": lambda df: df['title'].str.extract('\\((\\d+)\\)'),\n",
    "    }\n",
    "\n",
    "  def interact_dtypes(self):\n",
    "    return {\n",
    "        \"movieId\": dtypes.ItemID(),\n",
    "        \"userId\": dtypes.UserID(),\n",
    "        \"rating\": dtypes.Rating(min=0.5, step=0.5),\n",
    "    }\n",
    "\n",
    "  def load_items(self):\n",
    "    return pd.read_csv(\"./ml-20m/movies.csv\")\n",
    "\n",
    "  def load_interacts(self):\n",
    "    return pd.read_csv(\"./ml-20m/ratings.csv\")"
   ]
  },
  {
   "cell_type": "code",
   "execution_count": 10,
   "metadata": {},
   "outputs": [],
   "source": [
    "dataset = MovieLens()\n",
    "# dataset.fit()"
   ]
  },
  {
   "cell_type": "code",
   "execution_count": 10,
   "metadata": {},
   "outputs": [],
   "source": [
    "dataset.save('./ml-20m/dump.zip')"
   ]
  },
  {
   "cell_type": "code",
   "execution_count": 11,
   "metadata": {},
   "outputs": [],
   "source": [
    "dataset.load('./ml-25m/dump.zip')"
   ]
  },
  {
   "cell_type": "code",
   "execution_count": 13,
   "metadata": {},
   "outputs": [
    {
     "ename": "TypeError",
     "evalue": "item_title() missing 1 required positional argument: 'items'",
     "output_type": "error",
     "traceback": [
      "\u001b[0;31m---------------------------------------------------------------------------\u001b[0m",
      "\u001b[0;31mTypeError\u001b[0m                                 Traceback (most recent call last)",
      "\u001b[0;32m<ipython-input-13-429b40cd3f10>\u001b[0m in \u001b[0;36m<module>\u001b[0;34m\u001b[0m\n\u001b[0;32m----> 1\u001b[0;31m \u001b[0mdataset\u001b[0m\u001b[0;34m.\u001b[0m\u001b[0mitem_title\u001b[0m\u001b[0;34m(\u001b[0m\u001b[0;34m)\u001b[0m\u001b[0;34m\u001b[0m\u001b[0;34m\u001b[0m\u001b[0m\n\u001b[0m",
      "\u001b[0;31mTypeError\u001b[0m: item_title() missing 1 required positional argument: 'items'"
     ]
    }
   ],
   "source": [
    "dataset.item_title()"
   ]
  },
  {
   "cell_type": "code",
   "execution_count": 10,
   "metadata": {},
   "outputs": [
    {
     "name": "stdout",
     "output_type": "stream",
     "text": [
      "81910\n"
     ]
    }
   ],
   "source": [
    "user_id = dataset.vad_users[0]\n",
    "print(user_id)"
   ]
  },
  {
   "cell_type": "code",
   "execution_count": 14,
   "metadata": {},
   "outputs": [
    {
     "name": "stdout",
     "output_type": "stream",
     "text": [
      "0\n"
     ]
    }
   ],
   "source": [
    "user_idx = dataset.get_user_index(user_id)\n",
    "print(user_idx)"
   ]
  },
  {
   "cell_type": "code",
   "execution_count": 15,
   "metadata": {},
   "outputs": [],
   "source": [
    "user_interacts = dataset.vad_data_tr[user_idx].toarray()"
   ]
  },
  {
   "cell_type": "code",
   "execution_count": 16,
   "metadata": {},
   "outputs": [
    {
     "data": {
      "text/plain": [
       "array([[0., 0., 0., ..., 0., 0., 0.]])"
      ]
     },
     "execution_count": 16,
     "metadata": {},
     "output_type": "execute_result"
    }
   ],
   "source": [
    "user_interacts"
   ]
  },
  {
   "cell_type": "code",
   "execution_count": 17,
   "metadata": {},
   "outputs": [],
   "source": [
    "item_idxs = np.argwhere(user_interacts == 1)[:, 1]"
   ]
  },
  {
   "cell_type": "code",
   "execution_count": 18,
   "metadata": {},
   "outputs": [
    {
     "data": {
      "text/plain": [
       "array([   39,    89,   101,   121,   208,   212,   226,   492,   612,\n",
       "         729,   765,   793,  1005,  1017,  1337,  1462,  1810,  1940,\n",
       "        2211,  2724,  4030,  4202,  4594,  4603,  4623,  5819,  6223,\n",
       "        7172, 10018, 11629, 12177, 12403])"
      ]
     },
     "execution_count": 18,
     "metadata": {},
     "output_type": "execute_result"
    }
   ],
   "source": [
    "item_idxs"
   ]
  },
  {
   "cell_type": "code",
   "execution_count": 21,
   "metadata": {},
   "outputs": [],
   "source": [
    "item_ids = np.array([dataset.get_item_id(idx) for idx in item_idxs])"
   ]
  },
  {
   "cell_type": "code",
   "execution_count": 23,
   "metadata": {},
   "outputs": [
    {
     "data": {
      "text/plain": [
       "array([ 1653,  5952,  8360,   296,  6016,  6377,  7361,   307,  1088,\n",
       "        2692,  3448,  4973,  4144,  8327,  5878,   665,  2843, 27266,\n",
       "        1237,  6370,  7234,  8786,  2351,  4325,  8154,  7209,  3569,\n",
       "        7365,  2632,  2573,  7940,  5767])"
      ]
     },
     "execution_count": 23,
     "metadata": {},
     "output_type": "execute_result"
    }
   ],
   "source": [
    "item_ids"
   ]
  },
  {
   "cell_type": "code",
   "execution_count": 24,
   "metadata": {},
   "outputs": [
    {
     "data": {
      "text/html": [
       "<div>\n",
       "<style scoped>\n",
       "    .dataframe tbody tr th:only-of-type {\n",
       "        vertical-align: middle;\n",
       "    }\n",
       "\n",
       "    .dataframe tbody tr th {\n",
       "        vertical-align: top;\n",
       "    }\n",
       "\n",
       "    .dataframe thead th {\n",
       "        text-align: right;\n",
       "    }\n",
       "</style>\n",
       "<table border=\"1\" class=\"dataframe\">\n",
       "  <thead>\n",
       "    <tr style=\"text-align: right;\">\n",
       "      <th></th>\n",
       "      <th>title</th>\n",
       "      <th>genres</th>\n",
       "    </tr>\n",
       "    <tr>\n",
       "      <th>movieId</th>\n",
       "      <th></th>\n",
       "      <th></th>\n",
       "    </tr>\n",
       "  </thead>\n",
       "  <tbody>\n",
       "    <tr>\n",
       "      <th>1653</th>\n",
       "      <td>Gattaca (1997)</td>\n",
       "      <td>Drama|Sci-Fi|Thriller</td>\n",
       "    </tr>\n",
       "    <tr>\n",
       "      <th>5952</th>\n",
       "      <td>Lord of the Rings: The Two Towers, The (2002)</td>\n",
       "      <td>Adventure|Fantasy</td>\n",
       "    </tr>\n",
       "    <tr>\n",
       "      <th>8360</th>\n",
       "      <td>Shrek 2 (2004)</td>\n",
       "      <td>Adventure|Animation|Children|Comedy|Musical|Ro...</td>\n",
       "    </tr>\n",
       "    <tr>\n",
       "      <th>296</th>\n",
       "      <td>Pulp Fiction (1994)</td>\n",
       "      <td>Comedy|Crime|Drama|Thriller</td>\n",
       "    </tr>\n",
       "    <tr>\n",
       "      <th>6016</th>\n",
       "      <td>City of God (Cidade de Deus) (2002)</td>\n",
       "      <td>Action|Adventure|Crime|Drama|Thriller</td>\n",
       "    </tr>\n",
       "    <tr>\n",
       "      <th>6377</th>\n",
       "      <td>Finding Nemo (2003)</td>\n",
       "      <td>Adventure|Animation|Children|Comedy</td>\n",
       "    </tr>\n",
       "    <tr>\n",
       "      <th>7361</th>\n",
       "      <td>Eternal Sunshine of the Spotless Mind (2004)</td>\n",
       "      <td>Drama|Romance|Sci-Fi</td>\n",
       "    </tr>\n",
       "    <tr>\n",
       "      <th>307</th>\n",
       "      <td>Three Colors: Blue (Trois couleurs: Bleu) (1993)</td>\n",
       "      <td>Drama</td>\n",
       "    </tr>\n",
       "    <tr>\n",
       "      <th>1088</th>\n",
       "      <td>Dirty Dancing (1987)</td>\n",
       "      <td>Drama|Musical|Romance</td>\n",
       "    </tr>\n",
       "    <tr>\n",
       "      <th>2692</th>\n",
       "      <td>Run Lola Run (Lola rennt) (1998)</td>\n",
       "      <td>Action|Crime</td>\n",
       "    </tr>\n",
       "    <tr>\n",
       "      <th>3448</th>\n",
       "      <td>Good Morning, Vietnam (1987)</td>\n",
       "      <td>Comedy|Drama|War</td>\n",
       "    </tr>\n",
       "    <tr>\n",
       "      <th>4973</th>\n",
       "      <td>Amelie (Fabuleux destin d'Amélie Poulain, Le) ...</td>\n",
       "      <td>Comedy|Romance</td>\n",
       "    </tr>\n",
       "    <tr>\n",
       "      <th>4144</th>\n",
       "      <td>In the Mood For Love (Fa yeung nin wa) (2000)</td>\n",
       "      <td>Drama|Romance</td>\n",
       "    </tr>\n",
       "    <tr>\n",
       "      <th>8327</th>\n",
       "      <td>Dolls (2002)</td>\n",
       "      <td>Drama|Romance</td>\n",
       "    </tr>\n",
       "    <tr>\n",
       "      <th>5878</th>\n",
       "      <td>Talk to Her (Hable con Ella) (2002)</td>\n",
       "      <td>Drama|Romance</td>\n",
       "    </tr>\n",
       "    <tr>\n",
       "      <th>665</th>\n",
       "      <td>Underground (1995)</td>\n",
       "      <td>Comedy|Drama|War</td>\n",
       "    </tr>\n",
       "    <tr>\n",
       "      <th>2843</th>\n",
       "      <td>Black Cat, White Cat (Crna macka, beli macor) ...</td>\n",
       "      <td>Comedy|Romance</td>\n",
       "    </tr>\n",
       "    <tr>\n",
       "      <th>27266</th>\n",
       "      <td>2046 (2004)</td>\n",
       "      <td>Drama|Fantasy|Romance|Sci-Fi</td>\n",
       "    </tr>\n",
       "    <tr>\n",
       "      <th>1237</th>\n",
       "      <td>Seventh Seal, The (Sjunde inseglet, Det) (1957)</td>\n",
       "      <td>Drama</td>\n",
       "    </tr>\n",
       "    <tr>\n",
       "      <th>6370</th>\n",
       "      <td>Spanish Apartment, The (L'auberge espagnole) (...</td>\n",
       "      <td>Comedy|Drama|Romance</td>\n",
       "    </tr>\n",
       "    <tr>\n",
       "      <th>7234</th>\n",
       "      <td>Strada, La (1954)</td>\n",
       "      <td>Drama</td>\n",
       "    </tr>\n",
       "    <tr>\n",
       "      <th>8786</th>\n",
       "      <td>Port of Shadows (Quai des brumes) (1938)</td>\n",
       "      <td>Drama</td>\n",
       "    </tr>\n",
       "    <tr>\n",
       "      <th>2351</th>\n",
       "      <td>Nights of Cabiria (Notti di Cabiria, Le) (1957)</td>\n",
       "      <td>Drama</td>\n",
       "    </tr>\n",
       "    <tr>\n",
       "      <th>4325</th>\n",
       "      <td>Night, The (Notte, La) (1960)</td>\n",
       "      <td>Drama</td>\n",
       "    </tr>\n",
       "    <tr>\n",
       "      <th>8154</th>\n",
       "      <td>Dolce Vita, La (1960)</td>\n",
       "      <td>Drama</td>\n",
       "    </tr>\n",
       "    <tr>\n",
       "      <th>7209</th>\n",
       "      <td>M. Hulot’s Holiday (Mr. Hulot's Holiday) (Vaca...</td>\n",
       "      <td>Comedy</td>\n",
       "    </tr>\n",
       "    <tr>\n",
       "      <th>3569</th>\n",
       "      <td>Idiots, The (Idioterne) (1998)</td>\n",
       "      <td>Comedy|Drama</td>\n",
       "    </tr>\n",
       "    <tr>\n",
       "      <th>7365</th>\n",
       "      <td>Noi the Albino (Nói albinói) (2003)</td>\n",
       "      <td>Drama</td>\n",
       "    </tr>\n",
       "    <tr>\n",
       "      <th>2632</th>\n",
       "      <td>Saragossa Manuscript, The (Rekopis znaleziony ...</td>\n",
       "      <td>Adventure|Drama|Mystery</td>\n",
       "    </tr>\n",
       "    <tr>\n",
       "      <th>2573</th>\n",
       "      <td>Tango (1998)</td>\n",
       "      <td>Drama|Musical</td>\n",
       "    </tr>\n",
       "    <tr>\n",
       "      <th>7940</th>\n",
       "      <td>The Magician (1958)</td>\n",
       "      <td>Drama</td>\n",
       "    </tr>\n",
       "    <tr>\n",
       "      <th>5767</th>\n",
       "      <td>Teddy Bear (Mis) (1981)</td>\n",
       "      <td>Comedy|Crime</td>\n",
       "    </tr>\n",
       "  </tbody>\n",
       "</table>\n",
       "</div>"
      ],
      "text/plain": [
       "                                                     title  \\\n",
       "movieId                                                      \n",
       "1653                                        Gattaca (1997)   \n",
       "5952         Lord of the Rings: The Two Towers, The (2002)   \n",
       "8360                                        Shrek 2 (2004)   \n",
       "296                                    Pulp Fiction (1994)   \n",
       "6016                   City of God (Cidade de Deus) (2002)   \n",
       "6377                                   Finding Nemo (2003)   \n",
       "7361          Eternal Sunshine of the Spotless Mind (2004)   \n",
       "307       Three Colors: Blue (Trois couleurs: Bleu) (1993)   \n",
       "1088                                  Dirty Dancing (1987)   \n",
       "2692                      Run Lola Run (Lola rennt) (1998)   \n",
       "3448                          Good Morning, Vietnam (1987)   \n",
       "4973     Amelie (Fabuleux destin d'Amélie Poulain, Le) ...   \n",
       "4144         In the Mood For Love (Fa yeung nin wa) (2000)   \n",
       "8327                                          Dolls (2002)   \n",
       "5878                   Talk to Her (Hable con Ella) (2002)   \n",
       "665                                     Underground (1995)   \n",
       "2843     Black Cat, White Cat (Crna macka, beli macor) ...   \n",
       "27266                                          2046 (2004)   \n",
       "1237       Seventh Seal, The (Sjunde inseglet, Det) (1957)   \n",
       "6370     Spanish Apartment, The (L'auberge espagnole) (...   \n",
       "7234                                     Strada, La (1954)   \n",
       "8786              Port of Shadows (Quai des brumes) (1938)   \n",
       "2351       Nights of Cabiria (Notti di Cabiria, Le) (1957)   \n",
       "4325                         Night, The (Notte, La) (1960)   \n",
       "8154                                 Dolce Vita, La (1960)   \n",
       "7209     M. Hulot’s Holiday (Mr. Hulot's Holiday) (Vaca...   \n",
       "3569                        Idiots, The (Idioterne) (1998)   \n",
       "7365                   Noi the Albino (Nói albinói) (2003)   \n",
       "2632     Saragossa Manuscript, The (Rekopis znaleziony ...   \n",
       "2573                                          Tango (1998)   \n",
       "7940                                   The Magician (1958)   \n",
       "5767                               Teddy Bear (Mis) (1981)   \n",
       "\n",
       "                                                    genres  \n",
       "movieId                                                     \n",
       "1653                                 Drama|Sci-Fi|Thriller  \n",
       "5952                                     Adventure|Fantasy  \n",
       "8360     Adventure|Animation|Children|Comedy|Musical|Ro...  \n",
       "296                            Comedy|Crime|Drama|Thriller  \n",
       "6016                 Action|Adventure|Crime|Drama|Thriller  \n",
       "6377                   Adventure|Animation|Children|Comedy  \n",
       "7361                                  Drama|Romance|Sci-Fi  \n",
       "307                                                  Drama  \n",
       "1088                                 Drama|Musical|Romance  \n",
       "2692                                          Action|Crime  \n",
       "3448                                      Comedy|Drama|War  \n",
       "4973                                        Comedy|Romance  \n",
       "4144                                         Drama|Romance  \n",
       "8327                                         Drama|Romance  \n",
       "5878                                         Drama|Romance  \n",
       "665                                       Comedy|Drama|War  \n",
       "2843                                        Comedy|Romance  \n",
       "27266                         Drama|Fantasy|Romance|Sci-Fi  \n",
       "1237                                                 Drama  \n",
       "6370                                  Comedy|Drama|Romance  \n",
       "7234                                                 Drama  \n",
       "8786                                                 Drama  \n",
       "2351                                                 Drama  \n",
       "4325                                                 Drama  \n",
       "8154                                                 Drama  \n",
       "7209                                                Comedy  \n",
       "3569                                          Comedy|Drama  \n",
       "7365                                                 Drama  \n",
       "2632                               Adventure|Drama|Mystery  \n",
       "2573                                         Drama|Musical  \n",
       "7940                                                 Drama  \n",
       "5767                                          Comedy|Crime  "
      ]
     },
     "execution_count": 24,
     "metadata": {},
     "output_type": "execute_result"
    }
   ],
   "source": [
    "dataset.items.loc[item_ids]"
   ]
  },
  {
   "cell_type": "code",
   "execution_count": 60,
   "metadata": {},
   "outputs": [],
   "source": [
    "class KNN(ScikitModel):\n",
    "  def __init__(self, k=5):\n",
    "    self.model = NearestNeighbors(n_neighbors=k, metric=\"cosine\")\n",
    "\n",
    "  def name(self):\n",
    "    return \"KNN\"\n",
    "\n",
    "  def fit(self):\n",
    "    self.model.fit(self.dataset.train_data)\n",
    "\n",
    "  def predict(self, X, **kwargs):\n",
    "    distances, indexes = self.model.kneighbors(X)\n",
    "\n",
    "    print(\"-> Distances computed\")\n",
    "\n",
    "    n_distances = distances[:, 1:]\n",
    "    n_indexes = indexes[:, 1:]\n",
    "\n",
    "    n_distances = 1 - n_distances\n",
    "\n",
    "    sums = n_distances.sum(axis=1)\n",
    "    n_distances = n_distances / sums[:, np.newaxis]\n",
    "\n",
    "    print(\"-> Distances normalized\")\n",
    "\n",
    "    predictions = np.array(\n",
    "        [\n",
    "            self.dataset.train_data[idx]\n",
    "            .multiply(dist.reshape(-1, 1))\n",
    "            .sum(axis=0)\n",
    "            for idx, dist in zip(n_indexes, n_distances)\n",
    "        ]\n",
    "    ).squeeze(axis=1)\n",
    "\n",
    "    print(\"-> Predictions completed\")\n",
    "\n",
    "    predictions[X.toarray() > 0] = 0\n",
    "\n",
    "    print(\"-> History erased\")\n",
    "\n",
    "    return predictions"
   ]
  },
  {
   "cell_type": "code",
   "execution_count": 61,
   "metadata": {},
   "outputs": [],
   "source": [
    "class SVDKNN(KNN):\n",
    "  def __init__(self, svd_components=20):\n",
    "    super().__init__()\n",
    "    self.svd = TruncatedSVD(n_components=svd_components, algorithm='arpack')\n",
    "\n",
    "  def name(self):\n",
    "    return \"SVDKNN\"\n",
    "\n",
    "  def fit(self):\n",
    "    self.train_embed = self.svd.fit_transform(self.dataset.train_data)\n",
    "    self.model.fit(self.train_embed)\n",
    "\n",
    "  def predict(self, X, **kwargs):\n",
    "    X_embed = self.svd.transform(X)\n",
    "    return super().predict(X_embed, **kwargs)"
   ]
  },
  {
   "cell_type": "code",
   "execution_count": 62,
   "metadata": {},
   "outputs": [],
   "source": [
    "model = KNN()\n",
    "model.update_data(dataset)\n",
    "model.fit()"
   ]
  },
  {
   "cell_type": "code",
   "execution_count": 63,
   "metadata": {},
   "outputs": [],
   "source": [
    "model_svd = SVDKNN()\n",
    "model_svd.update_data(dataset)\n",
    "model_svd.fit()"
   ]
  },
  {
   "cell_type": "code",
   "execution_count": 66,
   "metadata": {},
   "outputs": [
    {
     "data": {
      "text/plain": [
       "array([[0., 0., 0., ..., 0., 0., 0.],\n",
       "       [0., 0., 0., ..., 0., 0., 0.],\n",
       "       [1., 0., 0., ..., 0., 0., 0.],\n",
       "       ...,\n",
       "       [0., 0., 0., ..., 0., 0., 0.],\n",
       "       [0., 0., 0., ..., 0., 0., 0.],\n",
       "       [1., 0., 1., ..., 0., 0., 0.]])"
      ]
     },
     "execution_count": 66,
     "metadata": {},
     "output_type": "execute_result"
    }
   ],
   "source": [
    "dataset.vad_data_tr.toarray()"
   ]
  },
  {
   "cell_type": "code",
   "execution_count": 67,
   "metadata": {},
   "outputs": [
    {
     "name": "stdout",
     "output_type": "stream",
     "text": [
      "-> Distances computed\n",
      "-> Distances normalized\n",
      "-> Predictions completed\n",
      "-> History erased\n"
     ]
    }
   ],
   "source": [
    "X_pred = model.predict(dataset.vad_data_tr)"
   ]
  },
  {
   "cell_type": "code",
   "execution_count": 65,
   "metadata": {},
   "outputs": [],
   "source": [
    "evaluator = repsys.ModelEvaluator()"
   ]
  },
  {
   "cell_type": "code",
   "execution_count": 66,
   "metadata": {},
   "outputs": [
    {
     "name": "stdout",
     "output_type": "stream",
     "text": [
      "-> Distances computed\n",
      "-> Distances normalized\n",
      "-> Predictions completed\n",
      "-> History erased\n"
     ]
    }
   ],
   "source": [
    "evaluator.evaluate_model(model, dataset.vad_data_tr, dataset.vad_data_te)"
   ]
  },
  {
   "cell_type": "code",
   "execution_count": 67,
   "metadata": {},
   "outputs": [
    {
     "name": "stdout",
     "output_type": "stream",
     "text": [
      "-> Embeddings computed\n",
      "-> Distances computed\n",
      "-> Distances normalized\n",
      "-> Predictions completed\n",
      "-> History erased\n"
     ]
    }
   ],
   "source": [
    "evaluator.evaluate_model(model_svd, dataset.vad_data_tr, dataset.vad_data_te)"
   ]
  },
  {
   "cell_type": "code",
   "execution_count": 68,
   "metadata": {},
   "outputs": [
    {
     "name": "stdout",
     "output_type": "stream",
     "text": [
      "Model: KNN\n",
      "Recall@5=0.20815 (0.00231)\n",
      "Recall@20=0.27001 (0.00243)\n",
      "Recall@50=0.34642 (0.00261)\n",
      "NCDG@100=0.27934 (0.00199)\n",
      "-------------\n",
      "Model: KNNSVD\n",
      "Recall@5=0.19059 (0.00221)\n",
      "Recall@20=0.24020 (0.00228)\n",
      "Recall@50=0.32399 (0.00256)\n",
      "NCDG@100=0.26354 (0.00196)\n"
     ]
    }
   ],
   "source": [
    "evaluator.print_results()"
   ]
  },
  {
   "cell_type": "code",
   "execution_count": 69,
   "metadata": {},
   "outputs": [
    {
     "data": {
      "image/png": "[encoded data removed]",
      "text/plain": [
       "<Figure size 1080x288 with 4 Axes>"
      ]
     },
     "metadata": {
      "needs_background": "light"
     },
     "output_type": "display_data"
    },
    {
     "data": {
      "image/png": "[encoded data removed]",
      "text/plain": [
       "<Figure size 1080x288 with 4 Axes>"
      ]
     },
     "metadata": {
      "needs_background": "light"
     },
     "output_type": "display_data"
    }
   ],
   "source": [
    "evaluator.plot_distributions()"
   ]
  },
  {
   "cell_type": "code",
   "execution_count": 70,
   "metadata": {},
   "outputs": [],
   "source": [
    "import bottleneck as bn"
   ]
  },
  {
   "cell_type": "code",
   "execution_count": 71,
   "metadata": {},
   "outputs": [],
   "source": [
    "def recall(X_pred, heldout_batch, k=100):\n",
    "  batch_users = X_pred.shape[0]\n",
    "\n",
    "  idx = bn.argpartition(-X_pred, k, axis=1)\n",
    "  X_pred_binary = np.zeros_like(X_pred, dtype=bool)\n",
    "  X_pred_binary[np.arange(batch_users)[:, np.newaxis], idx[:, :k]] = True\n",
    "\n",
    "  X_true_binary = (heldout_batch > 0).toarray()\n",
    "  tmp = (np.logical_and(X_true_binary, X_pred_binary).sum(axis=1)).astype(\n",
    "      np.float32\n",
    "  )\n",
    "  recall = tmp / np.minimum(k, X_true_binary.sum(axis=1))\n",
    "  return recall"
   ]
  },
  {
   "cell_type": "code",
   "execution_count": 73,
   "metadata": {},
   "outputs": [
    {
     "data": {
      "text/plain": [
       "0.3642179658302286"
      ]
     },
     "execution_count": 73,
     "metadata": {},
     "output_type": "execute_result"
    }
   ],
   "source": [
    "recall(X_pred, dataset.vad_data_te).mean()"
   ]
  },
  {
   "cell_type": "code",
   "execution_count": null,
   "metadata": {},
   "outputs": [],
   "source": []
  }
 ],
 "metadata": {
  "interpreter": {
   "hash": "56116db39e34858da7bcc694b131a47518b653d2b6de6b52a1653a01e20bb8fd"
  },
  "kernelspec": {
   "display_name": "Python 3",
   "language": "python",
   "name": "python3"
  },
  "language_info": {
   "codemirror_mode": {
    "name": "ipython",
    "version": 3
   },
   "file_extension": ".py",
   "mimetype": "text/x-python",
   "name": "python",
   "nbconvert_exporter": "python",
   "pygments_lexer": "ipython3",
   "version": "3.7.11"
  }
 },
 "nbformat": 4,
 "nbformat_minor": 2
}
