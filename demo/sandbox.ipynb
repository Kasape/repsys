{
 "cells": [
  {
   "cell_type": "code",
   "execution_count": 2,
   "metadata": {},
   "outputs": [],
   "source": [
    "import pandas as pd\n",
    "import numpy as np"
   ]
  },
  {
   "cell_type": "code",
   "execution_count": 3,
   "metadata": {},
   "outputs": [],
   "source": [
    "df = pd.read_csv('./tmp/items.csv')"
   ]
  },
  {
   "cell_type": "code",
   "execution_count": 4,
   "metadata": {},
   "outputs": [
    {
     "data": {
      "text/html": [
       "<div>\n",
       "<style scoped>\n",
       "    .dataframe tbody tr th:only-of-type {\n",
       "        vertical-align: middle;\n",
       "    }\n",
       "\n",
       "    .dataframe tbody tr th {\n",
       "        vertical-align: top;\n",
       "    }\n",
       "\n",
       "    .dataframe thead th {\n",
       "        text-align: right;\n",
       "    }\n",
       "</style>\n",
       "<table border=\"1\" class=\"dataframe\">\n",
       "  <thead>\n",
       "    <tr style=\"text-align: right;\">\n",
       "      <th></th>\n",
       "      <th>index</th>\n",
       "      <th>title</th>\n",
       "      <th>description</th>\n",
       "      <th>image</th>\n",
       "      <th>subtitle</th>\n",
       "      <th>caption</th>\n",
       "    </tr>\n",
       "  </thead>\n",
       "  <tbody>\n",
       "    <tr>\n",
       "      <th>0</th>\n",
       "      <td>125</td>\n",
       "      <td>Toy Story (1995)</td>\n",
       "      <td>A cowboy doll is profoundly threatened and jea...</td>\n",
       "      <td>https://m.media-amazon.com/images/M/MV5BMDU2ZW...</td>\n",
       "      <td>Animation, Adventure, Comedy</td>\n",
       "      <td>English</td>\n",
       "    </tr>\n",
       "    <tr>\n",
       "      <th>1</th>\n",
       "      <td>1969</td>\n",
       "      <td>Jumanji (1995)</td>\n",
       "      <td>When two kids find and play a magical board ga...</td>\n",
       "      <td>https://m.media-amazon.com/images/M/MV5BZTk2Zm...</td>\n",
       "      <td>Adventure, Comedy, Family</td>\n",
       "      <td>English, French</td>\n",
       "    </tr>\n",
       "    <tr>\n",
       "      <th>2</th>\n",
       "      <td>88</td>\n",
       "      <td>Grumpier Old Men (1995)</td>\n",
       "      <td>John and Max resolve to save their beloved bai...</td>\n",
       "      <td>https://m.media-amazon.com/images/M/MV5BMjQxM2...</td>\n",
       "      <td>Comedy, Romance</td>\n",
       "      <td>English, Italian, German</td>\n",
       "    </tr>\n",
       "    <tr>\n",
       "      <th>3</th>\n",
       "      <td>4536</td>\n",
       "      <td>Waiting to Exhale (1995)</td>\n",
       "      <td>Based on Terry McMillan's novel, this film fol...</td>\n",
       "      <td>https://m.media-amazon.com/images/M/MV5BYzcyMD...</td>\n",
       "      <td>Comedy, Drama, Romance</td>\n",
       "      <td>English</td>\n",
       "    </tr>\n",
       "    <tr>\n",
       "      <th>4</th>\n",
       "      <td>1957</td>\n",
       "      <td>Father of the Bride Part II (1995)</td>\n",
       "      <td>George Banks must deal not only with the pregn...</td>\n",
       "      <td>https://m.media-amazon.com/images/M/MV5BOTEyNz...</td>\n",
       "      <td>Comedy, Family, Romance</td>\n",
       "      <td>English</td>\n",
       "    </tr>\n",
       "  </tbody>\n",
       "</table>\n",
       "</div>"
      ],
      "text/plain": [
       "   index                               title  \\\n",
       "0    125                    Toy Story (1995)   \n",
       "1   1969                      Jumanji (1995)   \n",
       "2     88             Grumpier Old Men (1995)   \n",
       "3   4536            Waiting to Exhale (1995)   \n",
       "4   1957  Father of the Bride Part II (1995)   \n",
       "\n",
       "                                         description  \\\n",
       "0  A cowboy doll is profoundly threatened and jea...   \n",
       "1  When two kids find and play a magical board ga...   \n",
       "2  John and Max resolve to save their beloved bai...   \n",
       "3  Based on Terry McMillan's novel, this film fol...   \n",
       "4  George Banks must deal not only with the pregn...   \n",
       "\n",
       "                                               image  \\\n",
       "0  https://m.media-amazon.com/images/M/MV5BMDU2ZW...   \n",
       "1  https://m.media-amazon.com/images/M/MV5BZTk2Zm...   \n",
       "2  https://m.media-amazon.com/images/M/MV5BMjQxM2...   \n",
       "3  https://m.media-amazon.com/images/M/MV5BYzcyMD...   \n",
       "4  https://m.media-amazon.com/images/M/MV5BOTEyNz...   \n",
       "\n",
       "                       subtitle                   caption  \n",
       "0  Animation, Adventure, Comedy                   English  \n",
       "1     Adventure, Comedy, Family           English, French  \n",
       "2               Comedy, Romance  English, Italian, German  \n",
       "3        Comedy, Drama, Romance                   English  \n",
       "4       Comedy, Family, Romance                   English  "
      ]
     },
     "execution_count": 4,
     "metadata": {},
     "output_type": "execute_result"
    }
   ],
   "source": [
    "df.head()"
   ]
  },
  {
   "cell_type": "code",
   "execution_count": 5,
   "metadata": {},
   "outputs": [
    {
     "data": {
      "text/plain": [
       "array(['Animation', 'Adventure', 'Comedy', 'Family', 'Romance', 'Drama',\n",
       "       'Crime', 'Thriller', 'Action', 'Fantasy', 'Horror', 'Biography',\n",
       "       'History', 'Mystery', 'Sci-Fi', 'War', 'Sport', 'Music', 'Musical',\n",
       "       'Western', 'Film-Noir', 'Documentary'], dtype=object)"
      ]
     },
     "execution_count": 5,
     "metadata": {},
     "output_type": "execute_result"
    }
   ],
   "source": [
    "df['subtitle'].dropna().str.split(', ', expand=True).stack().unique()"
   ]
  },
  {
   "cell_type": "code",
   "execution_count": 6,
   "metadata": {},
   "outputs": [],
   "source": [
    "df[\"subtitle\"] = df[\"subtitle\"].fillna('')"
   ]
  },
  {
   "cell_type": "code",
   "execution_count": 7,
   "metadata": {},
   "outputs": [
    {
     "data": {
      "text/plain": [
       "array([ True,  True, False, False,  True,  True,  True])"
      ]
     },
     "execution_count": 7,
     "metadata": {},
     "output_type": "execute_result"
    }
   ],
   "source": [
    "foo = np.array([3,443,54313,3123,43,543,2])\n",
    "foo < 1000"
   ]
  },
  {
   "cell_type": "code",
   "execution_count": 11,
   "metadata": {},
   "outputs": [
    {
     "data": {
      "text/plain": [
       "0         True\n",
       "1         True\n",
       "2         True\n",
       "3         True\n",
       "4         True\n",
       "         ...  \n",
       "20103     True\n",
       "20104    False\n",
       "20105    False\n",
       "20106    False\n",
       "20107    False\n",
       "Name: subtitle, Length: 20108, dtype: bool"
      ]
     },
     "execution_count": 11,
     "metadata": {},
     "output_type": "execute_result"
    }
   ],
   "source": [
    "df['subtitle'].str.contains('Comedy')"
   ]
  },
  {
   "cell_type": "code",
   "execution_count": null,
   "metadata": {},
   "outputs": [],
   "source": []
  }
 ],
 "metadata": {
  "interpreter": {
   "hash": "56116db39e34858da7bcc694b131a47518b653d2b6de6b52a1653a01e20bb8fd"
  },
  "kernelspec": {
   "display_name": "Python 3.7.11 64-bit ('jupyter': conda)",
   "language": "python",
   "name": "python3"
  },
  "language_info": {
   "codemirror_mode": {
    "name": "ipython",
    "version": 3
   },
   "file_extension": ".py",
   "mimetype": "text/x-python",
   "name": "python",
   "nbconvert_exporter": "python",
   "pygments_lexer": "ipython3",
   "version": "3.7.11"
  },
  "orig_nbformat": 4
 },
 "nbformat": 4,
 "nbformat_minor": 2
}
